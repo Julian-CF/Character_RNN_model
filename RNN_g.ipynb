{
  "nbformat": 4,
  "nbformat_minor": 0,
  "metadata": {
    "accelerator": "GPU",
    "colab": {
      "name": "DL_2_ws",
      "provenance": [],
      "collapsed_sections": []
    },
    "kernelspec": {
      "display_name": "Python 3",
      "name": "python3"
    }
  },
  "cells": [
    {
      "cell_type": "code",
      "metadata": {
        "id": "RBQTMxDRE_nL"
      },
      "source": [
        "# Download the dataset.\n",
        "!curl -fsS https://nlp.stanford.edu/sentiment/trainDevTestTrees_PTB.zip -o ./trainDevTestTrees_PTB.zip\n",
        "!unzip -q -o -d ./ ./trainDevTestTrees_PTB.zip\n",
        "!rm -f ./trainDevTestTrees_PTB.zip"
      ],
      "execution_count": 1,
      "outputs": []
    },
    {
      "cell_type": "code",
      "metadata": {
        "id": "XhhSca_NFKnu"
      },
      "source": [
        "import torch\n",
        "import numpy as np\n",
        "import matplotlib.pyplot as plt\n",
        "import random\n",
        "from torch import nn\n",
        "def loadsst(path):\n",
        "    xs = []\n",
        "    ys = []\n",
        "    with open(path, 'r') as file:\n",
        "        # Quick, dirty, and improper S-expression parsing.\n",
        "        for line in file.readlines():\n",
        "            soup = line.split()\n",
        "            ys.append(int(soup[0].lstrip('(')))\n",
        "            tokens = []\n",
        "            for chunk in soup[2:]:\n",
        "                if not chunk.endswith(\")\"):\n",
        "                    continue\n",
        "                tokens.append(chunk.rstrip( ')'))\n",
        "            xs.append(tokens)\n",
        "    return xs, ys\n",
        "\n",
        "ssttrainxs, ssttrainys = loadsst(\"./trees/train.txt\")\n",
        "sstvalidxs, sstvalidys = loadsst(\"./trees/dev.txt\")\n",
        "ssttestxs, ssttestys   = loadsst(\"./trees/test.txt\")"
      ],
      "execution_count": 2,
      "outputs": []
    },
    {
      "cell_type": "code",
      "metadata": {
        "id": "mnh4ZMcBI8xL"
      },
      "source": [
        "  #Device configuration\n",
        "device = torch.device('cuda' if torch.cuda.is_available() else 'cpu')"
      ],
      "execution_count": 3,
      "outputs": []
    },
    {
      "cell_type": "code",
      "metadata": {
        "id": "INQe7vlmFNFM"
      },
      "source": [
        "#Alphabet creation\n",
        "corpus = ''.join( ' '.join(s) for s in ssttrainxs + ssttestxs + sstvalidxs)\n",
        "alphabet = list(set(corpus))\n",
        "#character to value dictionnary\n",
        "char2val= {}\n",
        "for i in range(len(alphabet)):\n",
        "  char2val[alphabet[i]] = i\n",
        "\n",
        "#Joining all the sentences together \n",
        "ssttrainxs =  ''.join( ' '.join(s) for s in ssttrainxs)\n",
        "sstvalidxs =  ''.join( ' '.join(s) for s in sstvalidxs)\n",
        "ssttestxs =  ''.join( ' '.join(s) for s in ssttestxs)\n",
        "\n",
        "#changing character to their value correspondant reffering to the alphabet\n",
        "ssttrainxs = [char2val[char] for char in ssttrainxs]\n",
        "sstvalidxs = [char2val[char] for char in sstvalidxs]\n",
        "ssttestxs = [char2val[char] for char in ssttestxs]"
      ],
      "execution_count": 4,
      "outputs": []
    },
    {
      "cell_type": "code",
      "metadata": {
        "id": "BbeYZxrJJnwi"
      },
      "source": [
        "# Hyper-parameters \n",
        "batch_size = 64\n",
        "sequence_length = 128 \n",
        "hidden_size = 512\n",
        "num_layers = 2    \n",
        "num_epochs = 64\n",
        "learning_rate = 0.001\n",
        "mlp_layers = 2\n",
        "MLP1 = 256\n",
        "MLP2 = 256\n",
        "\n",
        "\n",
        "input_size = len(alphabet) #one hot label encoding vector \n",
        "num_classes = len(alphabet)\n",
        "Data_length = int(len(ssttrainxs) / sequence_length)\n",
        "\n",
        "dev_length = int(len(sstvalidxs) / sequence_length)\n",
        "test_length = int(len(ssttestxs) / sequence_length)\n"
      ],
      "execution_count": 5,
      "outputs": []
    },
    {
      "cell_type": "code",
      "metadata": {
        "id": "bvm7ddnJI-Ci"
      },
      "source": [
        "'''Slicing the inputs for later use of batches'''\n",
        "\n",
        "#ensuring the last element sentence has the same sequence_length\n",
        "if len(ssttrainxs) % sequence_length != 0:\n",
        "  cut = len(ssttrainxs) % sequence_length\n",
        "  ssttrainxs[:-cut]\n",
        "\n",
        "if len(ssttestxs) % sequence_length != 0:\n",
        "  cut = len(ssttestxs) % sequence_length\n",
        "  ssttestxs[:-cut]\n",
        "\n",
        "if len(sstvalidxs) % sequence_length != 0:\n",
        "  cut = len(sstvalidxs) % sequence_length\n",
        "  sstvalidxs[:-cut]\n",
        "\n",
        "#slicing in sequence_length size// \n",
        "trainX = [ssttrainxs[(i*sequence_length - sequence_length):(i*sequence_length - 1)] for i in range(1, Data_length + 1)]\n",
        "testX = [ssttestxs[(i*sequence_length - sequence_length):(i*sequence_length - 1)] for i in range(1, test_length + 1)]\n",
        "devX = [sstvalidxs[(i*sequence_length - sequence_length):(i*sequence_length - 1)] for i in range(1, dev_length + 1)]\n",
        "\n",
        "#Creating  output\n",
        "trainY = [ssttrainxs[(i*sequence_length - sequence_length + 1):(i*sequence_length)] for i in range(1, Data_length + 1)]\n",
        "devY = [sstvalidxs[(i*sequence_length - sequence_length + 1):(i*sequence_length)] for i in range(1, dev_length + 1)]\n",
        "testY = [ssttestxs[(i*sequence_length - sequence_length + 1):(i*sequence_length)] for i in range(1, test_length + 1)]"
      ],
      "execution_count": 6,
      "outputs": []
    },
    {
      "cell_type": "code",
      "metadata": {
        "id": "FvNvBGxoFQCy"
      },
      "source": [
        "#one hot encoding\n",
        "def one_hot_encoding(training_data, dict_size, seq_len, batch_size):\n",
        "    # Creating zeros array\n",
        "    ohe_matrix = np.zeros((batch_size, seq_len - 1, dict_size), dtype=np.float32)\n",
        "    # inputing the 1 in the right index for ohe\n",
        "    for i in range(batch_size):\n",
        "      for u in range(seq_len - 1):      \n",
        "        ohe_matrix[i, u, training_data[i][u]] = 1\n",
        "    return ohe_matrix\n",
        "\n",
        "training_input = torch.from_numpy(one_hot_encoding(trainX, num_classes, sequence_length, Data_length))\n",
        "training_output = torch.Tensor(trainY)\n",
        "\n",
        "dev_input = torch.from_numpy(one_hot_encoding(devX, num_classes, sequence_length, dev_length))\n",
        "dev_output = torch.Tensor(devY)\n",
        "\n",
        "testing_input = torch.from_numpy(one_hot_encoding(testX, num_classes, sequence_length, test_length))\n",
        "testing_output = torch.Tensor(testY)"
      ],
      "execution_count": 7,
      "outputs": []
    },
    {
      "cell_type": "code",
      "metadata": {
        "id": "as_ywLOuRQyJ"
      },
      "source": [
        "import torch.utils.data as data\n",
        "#use Data loader to generate Data and concatenate inputs and labels\n",
        "training_data = data.DataLoader(np.dstack((training_input, training_output)), batch_size)\n",
        "dev_data = data.DataLoader(np.dstack((dev_input, dev_output)), batch_size)\n",
        "test_data = data.DataLoader(np.dstack((testing_input, testing_output)), batch_size)"
      ],
      "execution_count": 8,
      "outputs": []
    },
    {
      "cell_type": "code",
      "metadata": {
        "id": "4IvOOhrjqCm2"
      },
      "source": [
        "#Vanilla RNN\n",
        "\n",
        "class RNN(nn.Module):\n",
        "    def __init__(self, input_size, hidden_size, num_layers, num_classes):\n",
        "        super(RNN, self).__init__()\n",
        "        self.num_layers = num_layers\n",
        "        self.hidden_size = hidden_size\n",
        "        self.rnn = nn.RNN(input_size, hidden_size, num_layers, batch_first=True)\n",
        "        self.fc = nn.Linear(hidden_size, num_classes)\n",
        "        \n",
        "    def forward(self, x):\n",
        "        batch_size = x.size(0)       \n",
        "\n",
        "        # Initializing hidden state for first input using method defined below\n",
        "        hidden = self.init_hidden(batch_size)\n",
        "        hidden.to(device)\n",
        "\n",
        "        # Passing in the input and hidden state into the model and obtaining outputs\n",
        "        out, _ = self.rnn(x.to(device), hidden.to(device))\n",
        "        \n",
        "        # Reshaping the outputs such that it can be fit into the fully connected layer\n",
        "        out = out.contiguous().view(-1, self.hidden_size)\n",
        "        out = self.fc(out)\n",
        "        \n",
        "        return out\n",
        "        \n",
        "    def init_hidden(self, batch_size):\n",
        "      # This method generates the first hidden state of zeros which we'll use in the forward pass\n",
        "      # We'll send the tensor holding the hidden state to the device we specified earlier as well\n",
        "      hidden = torch.zeros(self.num_layers, batch_size, self.hidden_size)\n",
        "      return hidden\n",
        "\n",
        "rnn_model = RNN(input_size, hidden_size, num_layers, num_classes).to(device)\n",
        "def correct(y_pred, y):\n",
        "  prediction_idx = torch.argmax(y_pred, dim=1)\n",
        "  correct = torch.sum(prediction_idx == y)\n",
        "  return correct\n",
        "\n",
        "# Loss and optimizer\n",
        "criterion = nn.CrossEntropyLoss()\n",
        "optimizer = torch.optim.Adam(rnn_model.parameters(), lr=learning_rate) \n",
        "\n",
        "# Train the model\n",
        "for epoch in range(num_epochs):\n",
        "  corrects = 0\n",
        "  for iter_data in training_data:\n",
        "    X = iter_data[:, :, :-1]\n",
        "    Y = iter_data[:, :, -1]\n",
        "    optimizer.zero_grad()\n",
        "    X.to(device)\n",
        "    output_training = rnn_model(X)   \n",
        "    output_training.to(device)\n",
        "    corrects += correct(output_training, Y.view(-1).long().to(device))\n",
        "    loss = criterion(output_training, Y.view(-1).long().to(device))     #loss = criterion(outputs, labels)\n",
        "    loss.backward()  #Backpropagation\n",
        "    optimizer.step()"
      ],
      "execution_count": 9,
      "outputs": []
    },
    {
      "cell_type": "code",
      "metadata": {
        "id": "ZYnjXUumsDFO"
      },
      "source": [
        "#GRU \n",
        "class GRU(nn.Module):\n",
        "    def __init__(self, input_size, hidden_size, num_layers, num_classes):\n",
        "        super(GRU, self).__init__()\n",
        "        self.num_layers = num_layers\n",
        "        self.hidden_size = hidden_size\n",
        "        # -> x needs to be: (batch_size, seq, input_size)\n",
        "        \n",
        "        # or:\n",
        "        self.gru = nn.GRU(input_size, hidden_size, num_layers, batch_first=True)\n",
        "        self.fc = nn.Linear(hidden_size, num_classes)\n",
        "        \n",
        "    def forward(self, x):\n",
        "        batch_size = x.size(0)\n",
        "        hidden = self.init_hidden(batch_size)\n",
        "        hidden.to(device)\n",
        "        # Passing in the input and hidden state into the model and obtaining outputs\n",
        "        out, _ = self.gru(x.to(device), hidden.to(device))       \n",
        "        # Reshaping the outputs such that it can be fit into the fully connected layer\n",
        "        out = out.contiguous().view(-1, self.hidden_size)\n",
        "        out = self.fc(out)\n",
        "        \n",
        "        return out\n",
        "        \n",
        "    def init_hidden(self, batch_size):\n",
        "      # This method generates the first hidden state of zeros which we'll use in the forward pass\n",
        "      #  send the tensor holding the hidden state to the device specified earlier as well\n",
        "      hidden = torch.zeros(self.num_layers, batch_size, self.hidden_size)\n",
        "      return hidden\n",
        "\n",
        "gru_model = GRU(input_size, hidden_size, num_layers, num_classes).to(device)\n",
        "def correct(y_pred, y):\n",
        "  prediction_idx = torch.argmax(y_pred, dim=1)\n",
        "  correct = torch.sum(prediction_idx == y)\n",
        "  return correct\n",
        "\n",
        "# Loss and optimizer\n",
        "criterion = nn.CrossEntropyLoss()  \n",
        "optimizer = torch.optim.Adam(gru_model.parameters(), lr=learning_rate) \n",
        "\n",
        "# Train the model\n",
        "for epoch in range(num_epochs):\n",
        "  corrects = 0\n",
        "  for iter_data in training_data:\n",
        "    X = iter_data[:, :, :-1]\n",
        "    Y = iter_data[:, :, -1]\n",
        "    optimizer.zero_grad()\n",
        "    X.to(device)\n",
        "    output_training = gru_model(X)   \n",
        "    output_training.to(device)\n",
        "    corrects += correct(output_training, Y.view(-1).long().to(device))\n",
        "    loss = criterion(output_training, Y.view(-1).long().to(device))     #loss = criterion(outputs, labels)\n",
        "    loss.backward()  #Backpropagation\n",
        "    optimizer.step()"
      ],
      "execution_count": null,
      "outputs": []
    },
    {
      "cell_type": "code",
      "metadata": {
        "id": "9cywbc2Kh_81",
        "colab": {
          "base_uri": "https://localhost:8080/",
          "height": 279
        },
        "outputId": "ede61f3a-8468-48c0-8e01-c6074abea821"
      },
      "source": [
        "'''LSTM and Final model'''\n",
        "#with possible use of 2 and 3 layer MLP transformations\n",
        "class LSTM(nn.Module):\n",
        "    def __init__(self, input_size, hidden_size, num_layers, num_classes, MLP_layers = 1, layermlp1 = 128, layermlp2 = 128):\n",
        "        super(LSTM, self).__init__()\n",
        "        self.num_layers = num_layers\n",
        "        self.hidden_size = hidden_size       \n",
        "        self.lstm = nn.LSTM(input_size, hidden_size, num_layers, batch_first=True)\n",
        "\n",
        "        self.MLP = MLP_layers       \n",
        "        self.mlp1 = nn.Linear(hidden_size, layermlp1)\n",
        "        self.mlp2 = nn.Linear(layermlp1, layermlp2)\n",
        "\n",
        "        if MLP_layers == 1:\n",
        "          self.fc = nn.Linear(hidden_size, num_classes)\n",
        "        elif MLP_layers == 2:\n",
        "          self.fc = nn.Linear(layermlp1, num_classes)\n",
        "        else:\n",
        "          self.fc = nn.Linear(layermlp2, num_classes)\n",
        "\n",
        "        \n",
        "    def forward(self, x):\n",
        "        batch_size = x.size(0)\n",
        "        \n",
        "\n",
        "        # Initializing hidden state for first input using method defined below\n",
        "        hidden = self.init_hidden(batch_size)\n",
        "        c0 = torch.zeros(self.num_layers, batch_size, self.hidden_size).to(device) \n",
        "\n",
        "        # Passing in the input and hidden state into the model and obtaining outputs\n",
        "        out, _ = self.lstm(x.to(device), (hidden.to(device), c0.to(device)))\n",
        "\n",
        "        \n",
        "        # Reshaping the outputs such that it can be fit into the fully connected layer\n",
        "        out = out.contiguous().view(-1, self.hidden_size)\n",
        "\n",
        "\n",
        "        #outputing depending on the MLP layers wanted\n",
        "        if self.MLP == 2:\n",
        "            out = self.mlp1(out)\n",
        "            out = nn.functional.relu(out)\n",
        "        elif self.MLP == 3:\n",
        "            out = self.mlp1(out)\n",
        "            out = nn.functional.relu(out)\n",
        "            out = self.mlp2(out)\n",
        "            out = nn.functional.relu(out)\n",
        "\n",
        "        out = self.fc(out)\n",
        "        \n",
        "        return out\n",
        "        \n",
        "    def init_hidden(self, batch_size):\n",
        "      # This method generates the first hidden state of zeros which we'll use in the forward pass\n",
        "      # We'll send the tensor holding the hidden state to the device we specified earlier as well\n",
        "      hidden = torch.zeros(self.num_layers, batch_size, self.hidden_size)\n",
        "      return hidden\n",
        "\n",
        "\n",
        "def correct(y_pred, y):\n",
        "  prediction_idx = torch.argmax(y_pred, dim=1)\n",
        "  correct = torch.sum(prediction_idx == y)\n",
        "  return correct\n",
        "\n",
        "\n",
        "lstm_model = LSTM(input_size, hidden_size, num_layers, num_classes, mlp_layers, MLP1, MLP2).to(device)\n",
        "\n",
        "# Loss and optimizer\n",
        "criterion = nn.CrossEntropyLoss() \n",
        "optimizer = torch.optim.Adam(lstm_model.parameters(), lr=learning_rate) \n",
        "\n",
        "# Train the model\n",
        "accuracies = []\n",
        "accuracies_dev = []\n",
        "accuracies_test = []\n",
        "loss_training = []\n",
        "loss_validation = []\n",
        "\n",
        "for epoch in range(num_epochs):\n",
        "  corrects_dev = 0\n",
        "  corrects = 0\n",
        "  loss2 = 0\n",
        "  for iter_data in training_data:\n",
        "    X = iter_data[:, :, :-1]\n",
        "    Y = iter_data[:, :, -1]\n",
        "    optimizer.zero_grad()\n",
        "    X.to(device)\n",
        "    output_training = lstm_model(X)   \n",
        "    # output_training.to(device)\n",
        "    corrects += correct(output_training, Y.view(-1).long().to(device))\n",
        "    loss = criterion(output_training, Y.view(-1).long().to(device))     #loss = criterion(outputs, labels)\n",
        "    loss.backward()  #Backpropagation\n",
        "    optimizer.step()\n",
        "    loss2 += loss\n",
        "  loss_training.append(loss2)\n",
        "\n",
        "  #validation loop on data \n",
        "  loss_dev2 = 0\n",
        "  for iter_data in dev_data:\n",
        "    X = iter_data[:, :, :-1]\n",
        "    Y = iter_data[:, :, -1]\n",
        "    output_dev = lstm_model(X).to(device)\n",
        "    # output_dev = output_dev.cpu()\n",
        "    corrects_dev += correct(output_dev, Y.view(-1).long().to(device))\n",
        "    loss_dev = criterion(output_dev, Y.view(-1).long().to(device)).item()\n",
        "    loss_dev2 += loss_dev\n",
        "  loss_validation.append(loss_dev2)\n",
        "\n",
        "#plot of validation and training loss\n",
        "plt.plot(np.array(loss_training)/Data_length, label = 'training')\n",
        "plt.plot(np.array(loss_validation)/dev_length, label = 'validation')\n",
        "plt.xlabel('Epoch') \n",
        "plt.ylabel('Loss')\n",
        "plt.legend()\n",
        "plt.show()"
      ],
      "execution_count": 11,
      "outputs": [
        {
          "output_type": "display_data",
          "data": {
            "image/png": "[encoded data removed]",
            "text/plain": [
              "<Figure size 432x288 with 1 Axes>"
            ]
          },
          "metadata": {
            "tags": [],
            "needs_background": "light"
          }
        }
      ]
    },
    {
      "cell_type": "code",
      "metadata": {
        "id": "Dkt7QfY8Wkzm",
        "colab": {
          "base_uri": "https://localhost:8080/"
        },
        "outputId": "1319ddd2-c2e8-4b05-c309-5ce2dd6a6350"
      },
      "source": [
        "''' Final accuracy on the training, validation, and test set.'''\r\n",
        "\r\n",
        "#test accuracy\r\n",
        "corrects_test = 0\r\n",
        "for iter_data in test_data:\r\n",
        "  X = iter_data[:, :, :-1]\r\n",
        "  Y = iter_data[:, :, -1]\r\n",
        "  output_test = lstm_model(X)\r\n",
        "  output_test.to(device)\r\n",
        "  corrects_test += correct(output_test, Y.view(-1).long().to(device))\r\n",
        "\r\n",
        "accuracy = corrects/(Data_length * (sequence_length - 1))* 100\r\n",
        "print('Training accuracy = {}%'.format(accuracy))\r\n",
        "\r\n",
        "dev_accuracy = corrects_dev / (dev_length * (sequence_length - 1)) * 100\r\n",
        "print('Validation accuracy = {}%'.format(dev_accuracy))\r\n",
        "\r\n",
        "test_accuracy = corrects_test / (test_length * (sequence_length - 1)) * 100\r\n",
        "print('Testing accuracy = {}%'.format(test_accuracy))\r\n"
      ],
      "execution_count": 12,
      "outputs": [
        {
          "output_type": "stream",
          "text": [
            "Training accuracy = 72.87130737304688%\n",
            "Validation accuracy = 55.95063400268555%\n",
            "Testing accuracy = 55.649261474609375%\n"
          ],
          "name": "stdout"
        }
      ]
    },
    {
      "cell_type": "code",
      "metadata": {
        "id": "pWKNlxDPp9vV",
        "colab": {
          "base_uri": "https://localhost:8080/"
        },
        "outputId": "43fc5535-34fd-46d5-f249-62f6b3c29bb0"
      },
      "source": [
        "''' Sentence creation ''' \r\n",
        "\r\n",
        "#creation of sentences\r\n",
        "test_sentence1 = 'Your father is  '  \r\n",
        "test_sentence2 = 'Hello, this is the end of books and art'\r\n",
        "test_sentence3 = 'I am lacking inspiration '\r\n",
        "test_sentence4 = 'Hello world '\r\n",
        "test_sentence5 = 'Welcome to'\r\n",
        "\r\n",
        "\r\n",
        "#one hot encoding it\r\n",
        "def hot_encode(sentence):\r\n",
        "  ohe = np.zeros([len(sentence), num_classes])\r\n",
        "  for u in range(len(sentence)):    \r\n",
        "    ohe[u, [char2val[char] for char in sentence][u]] = 1\r\n",
        "  return ohe\r\n",
        "#predict the end of a sentence\r\n",
        "def predict_end_sentence(test_sentence, maxlength):\r\n",
        "  ohe1 = hot_encode(test_sentence)\r\n",
        "  char1 = torch.argmax(lstm_model(torch.Tensor(ohe1.reshape(1, len(ohe1), num_classes)))[-1]).item()\r\n",
        "\r\n",
        "  while char1 not in (char2val['.'], char2val['?'], char2val['!']):\r\n",
        "    if ohe1.shape[0] > maxlength:\r\n",
        "      print('errorr')\r\n",
        "      break\r\n",
        "    # print(list(char2val.keys())[list(char2val.values()).index(char1)])\r\n",
        "    test_sentence += list(char2val.keys())[list(char2val.values()).index(char1)]\r\n",
        "    new_row = np.zeros(num_classes)\r\n",
        "    new_row[char1] = 1\r\n",
        "    ohe1 = np.vstack([ohe1, new_row])\r\n",
        "    char1 = torch.argmax(lstm_model(torch.Tensor(ohe1.reshape(1, ohe1.shape[0], num_classes)))[-1]).item()\r\n",
        "\r\n",
        "  return test_sentence + list(char2val.keys())[list(char2val.values()).index(char1)]\r\n",
        "\r\n",
        "#call functions\r\n",
        "print(predict_end_sentence(test_sentence1, 128))\r\n",
        "print(predict_end_sentence(test_sentence2, 128))\r\n",
        "print(predict_end_sentence(test_sentence3, 128))\r\n",
        "print(predict_end_sentence(test_sentence4, 128))\r\n",
        "print(predict_end_sentence(test_sentence5, 128))"
      ],
      "execution_count": 13,
      "outputs": [
        {
          "output_type": "stream",
          "text": [
            "Your father is  - it also how to make it .\n",
            "Hello, this is the end of books and artificing and over-the-top .\n",
            "I am lacking inspiration .\n",
            "Hello world , but it is the execution it with a frighten , and the characters are not to be for the movie .\n",
            "Welcome to the credits rarrelly light thriller .\n"
          ],
          "name": "stdout"
        }
      ]
    },
    {
      "cell_type": "code",
      "metadata": {
        "id": "kuFLqbswHaT4"
      },
      "source": [
        ""
      ],
      "execution_count": 13,
      "outputs": []
    }
  ]
}